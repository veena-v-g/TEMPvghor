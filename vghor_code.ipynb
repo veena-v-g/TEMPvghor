{
 "cells": [
  {
   "cell_type": "markdown",
   "metadata": {},
   "source": [
    "# Running Vghor_code\n",
    "\n",
    "Uploaded `circostrbshoot.zip` to running session."
   ]
  },
  {
   "cell_type": "code",
   "execution_count": null,
   "metadata": {},
   "outputs": [],
   "source": [
    "unzip circostrbshoot.zip"
   ]
  },
  {
   "cell_type": "code",
   "execution_count": 2,
   "metadata": {},
   "outputs": [],
   "source": [
    "mv circostrbshoot circos-0.69-6/"
   ]
  },
  {
   "cell_type": "code",
   "execution_count": 5,
   "metadata": {},
   "outputs": [],
   "source": [
    "cd circos-0.69-6/circostrbshoot"
   ]
  },
  {
   "cell_type": "code",
   "execution_count": 6,
   "metadata": {},
   "outputs": [
    {
     "name": "stdout",
     "output_type": "stream",
     "text": [
      "/home/jovyan/circos-0.69-6/circostrbshoot\n"
     ]
    }
   ],
   "source": [
    "pwd"
   ]
  },
  {
   "cell_type": "code",
   "execution_count": 10,
   "metadata": {},
   "outputs": [
    {
     "name": "stdout",
     "output_type": "stream",
     "text": [
      "debuggroup summary 0.32s welcome to circos v0.69-6 31 July 2017 on Perl 5.022000\n",
      "debuggroup summary 0.33s current working directory /home/jovyan/circos-0.69-6/circostrbshoot\n",
      "debuggroup summary 0.33s command ../bin/circos -conf ./circos.conf\n",
      "debuggroup summary 0.33s loading configuration from file ./circos.conf\n",
      "Use of uninitialized value in subroutine entry at /home/jovyan/circos-0.69-6/bin/../lib/Circos/Configuration.pm line 781.\n",
      "debuggroup summary 0.33s found conf file ./circos.conf\n",
      "debuggroup summary 0.55s debug will appear for these features: output,summary\n",
      "debuggroup summary 0.55s bitmap output image ./circos.png\n",
      "debuggroup summary 0.55s SVG output image ./circos.svg\n",
      "debuggroup summary 0.55s parsing karyotype and organizing ideograms\n",
      "debuggroup summary 0.55s karyotype has 1 chromosomes of total size 9,000,001\n",
      "debuggroup summary 0.55s applying global and local scaling\n",
      "debuggroup summary 0.56s allocating image, colors and brushes\n",
      "debuggroup summary 3.01s drawing 1 ideograms of total size 9,000,001\n",
      "debuggroup summary 3.01s drawing highlights and ideograms\n",
      "Use of uninitialized value in subroutine entry at /home/jovyan/circos-0.69-6/bin/../lib/Circos/Configuration.pm line 781.\n",
      "debuggroup summary 3.01s found conf file /home/jovyan/circos-0.69-6/bin/../etc/tracks/highlight.bg.conf\n",
      "Use of uninitialized value in subroutine entry at /home/jovyan/circos-0.69-6/bin/../lib/Circos/Configuration.pm line 781.\n",
      "debuggroup summary 3.01s found conf file /home/jovyan/circos-0.69-6/bin/../etc/tracks/highlight.bg.conf\n",
      "Use of uninitialized value in subroutine entry at /home/jovyan/circos-0.69-6/bin/../lib/Circos/Configuration.pm line 781.\n",
      "debuggroup summary 3.01s found conf file /home/jovyan/circos-0.69-6/bin/../etc/tracks/highlight.bg.conf\n",
      "Use of uninitialized value in subroutine entry at /home/jovyan/circos-0.69-6/bin/../lib/Circos/Configuration.pm line 781.\n",
      "debuggroup summary 3.01s found conf file /home/jovyan/circos-0.69-6/bin/../etc/tracks/highlight.bg.conf\n",
      "Use of uninitialized value in subroutine entry at /home/jovyan/circos-0.69-6/bin/../lib/Circos/Configuration.pm line 781.\n",
      "debuggroup summary 3.02s found conf file /home/jovyan/circos-0.69-6/bin/../etc/tracks/highlight.bg.conf\n",
      "Use of uninitialized value in subroutine entry at /home/jovyan/circos-0.69-6/bin/../lib/Circos/Configuration.pm line 781.\n",
      "debuggroup summary 3.02s found conf file /home/jovyan/circos-0.69-6/bin/../etc/tracks/highlight.bg.conf\n",
      "Use of uninitialized value in subroutine entry at /home/jovyan/circos-0.69-6/bin/../lib/Circos/Configuration.pm line 781.\n",
      "debuggroup summary 3.02s found conf file /home/jovyan/circos-0.69-6/bin/../etc/tracks/highlight.bg.conf\n",
      "Use of uninitialized value in subroutine entry at /home/jovyan/circos-0.69-6/bin/../lib/Circos/Configuration.pm line 781.\n",
      "debuggroup summary 3.02s found conf file /home/jovyan/circos-0.69-6/bin/../etc/tracks/highlight.bg.conf\n",
      "Use of uninitialized value in subroutine entry at /home/jovyan/circos-0.69-6/bin/../lib/Circos/Configuration.pm line 781.\n",
      "debuggroup summary 3.02s found conf file /home/jovyan/circos-0.69-6/bin/../etc/tracks/highlight.bg.conf\n",
      "Use of uninitialized value in subroutine entry at /home/jovyan/circos-0.69-6/bin/../lib/Circos/Configuration.pm line 781.\n",
      "debuggroup summary 3.02s found conf file /home/jovyan/circos-0.69-6/bin/../etc/tracks/highlight.bg.conf\n",
      "Use of uninitialized value in subroutine entry at /home/jovyan/circos-0.69-6/bin/../lib/Circos/Configuration.pm line 781.\n",
      "debuggroup summary 3.02s found conf file /home/jovyan/circos-0.69-6/bin/../etc/tracks/highlight.bg.conf\n",
      "Use of uninitialized value in subroutine entry at /home/jovyan/circos-0.69-6/bin/../lib/Circos/Configuration.pm line 781.\n",
      "debuggroup summary 3.02s found conf file /home/jovyan/circos-0.69-6/bin/../etc/tracks/highlight.bg.conf\n",
      "Use of uninitialized value in subroutine entry at /home/jovyan/circos-0.69-6/bin/../lib/Circos/Configuration.pm line 781.\n",
      "debuggroup summary 3.02s found conf file /home/jovyan/circos-0.69-6/bin/../etc/tracks/highlight.bg.conf\n",
      "Use of uninitialized value in subroutine entry at /home/jovyan/circos-0.69-6/bin/../lib/Circos/Configuration.pm line 781.\n",
      "debuggroup summary 3.02s found conf file /home/jovyan/circos-0.69-6/bin/../etc/tracks/highlight.bg.conf\n",
      "Use of uninitialized value in subroutine entry at /home/jovyan/circos-0.69-6/bin/../lib/Circos/Configuration.pm line 781.\n",
      "debuggroup summary 3.02s found conf file /home/jovyan/circos-0.69-6/bin/../etc/tracks/highlight.bg.conf\n",
      "Use of uninitialized value in subroutine entry at /home/jovyan/circos-0.69-6/bin/../lib/Circos/Configuration.pm line 781.\n",
      "debuggroup summary 3.02s found conf file /home/jovyan/circos-0.69-6/bin/../etc/tracks/highlight.bg.conf\n",
      "Use of uninitialized value in subroutine entry at /home/jovyan/circos-0.69-6/bin/../lib/Circos/Configuration.pm line 781.\n",
      "debuggroup summary 3.02s found conf file /home/jovyan/circos-0.69-6/bin/../etc/tracks/highlight.bg.conf\n",
      "debuggroup summary 3.03s process track_0 highlight /home/jovyan/circos-0.69-6/circostrbshoot/combined.highlights.1.txt\n",
      "debuggroup summary 3.04s process track_1 highlight /home/jovyan/circos-0.69-6/circostrbshoot/combined.highlights.2.txt\n",
      "debuggroup summary 3.13s process track_2 highlight /home/jovyan/circos-0.69-6/circostrbshoot/combined.highlights.3.txt\n",
      "\n",
      "  *** CIRCOS ERROR ***\n",
      "\n",
      "      cwd: /home/jovyan/circos-0.69-6/circostrbshoot\n",
      "\n",
      "      command: ../bin/circos -conf ./circos.conf\n",
      "\n",
      "  Cannot guess the location of file [combined.highlights.4.txt]. Tried to look\n",
      "  in the following directories\n",
      "\n",
      "      /home/jovyan/circos-0.69-6/circostrbshoot/.\n",
      "\n",
      "      /home/jovyan/circos-0.69-6/circostrbshoot/etc\n",
      "\n",
      "      /home/jovyan/circos-0.69-6/circostrbshoot/data\n",
      "\n",
      "      /home/jovyan/circos-0.69-6/circostrbshoot/../.\n",
      "\n",
      "      /home/jovyan/circos-0.69-6/circostrbshoot/../etc\n",
      "\n",
      "      /home/jovyan/circos-0.69-6/circostrbshoot/../data\n",
      "\n",
      "      /home/jovyan/circos-0.69-6/circostrbshoot/../../.\n",
      "\n",
      "      /home/jovyan/circos-0.69-6/circostrbshoot/../../etc\n",
      "\n",
      "      /home/jovyan/circos-0.69-6/circostrbshoot/../../data\n",
      "\n",
      "      /home/jovyan/circos-0.69-6/circostrbshoot/../../../.\n",
      "\n",
      "      /home/jovyan/circos-0.69-6/circostrbshoot/../../../etc\n",
      "\n",
      "      /home/jovyan/circos-0.69-6/circostrbshoot/../../../data\n",
      "\n",
      "      ./.\n",
      "\n",
      "      ./etc\n",
      "\n",
      "      ./data\n",
      "\n",
      "      ../.\n",
      "\n",
      "      ../etc\n",
      "\n",
      "      ../data\n",
      "\n",
      "      ../../.\n",
      "\n",
      "      ../../etc\n",
      "\n",
      "      ../../data\n",
      "\n",
      "      ../../../.\n",
      "\n",
      "      ../../../etc\n",
      "\n",
      "      ../../../data\n",
      "\n",
      "      /home/jovyan/circos-0.69-6/bin/.\n",
      "\n",
      "      /home/jovyan/circos-0.69-6/bin/etc\n",
      "\n",
      "      /home/jovyan/circos-0.69-6/bin/data\n",
      "\n",
      "      /home/jovyan/circos-0.69-6/bin/../.\n",
      "\n",
      "      /home/jovyan/circos-0.69-6/bin/../etc\n",
      "\n",
      "      /home/jovyan/circos-0.69-6/bin/../data\n",
      "\n",
      "      /home/jovyan/circos-0.69-6/bin/../../.\n",
      "\n",
      "      /home/jovyan/circos-0.69-6/bin/../../etc\n",
      "\n",
      "      /home/jovyan/circos-0.69-6/bin/../../data\n",
      "\n",
      "      /home/jovyan/circos-0.69-6/bin/../../../.\n",
      "\n",
      "      /home/jovyan/circos-0.69-6/bin/../../../etc\n",
      "\n",
      "      /home/jovyan/circos-0.69-6/bin/../../../data\n",
      "\n",
      "  If you are having trouble debugging this error, first read the best practices\n",
      "  tutorial for helpful tips that address many common problems\n",
      "\n",
      "      http://www.circos.ca/documentation/tutorials/reference/best_practices\n",
      "\n",
      "  The debugging facility is helpful to figure out what's happening under the\n",
      "  hood\n",
      "\n",
      "      http://www.circos.ca/documentation/tutorials/configuration/debugging\n",
      "\n",
      "  If you're still stumped, get support in the Circos Google Group.\n",
      "\n",
      "      http://groups.google.com/group/circos-data-visualization\n",
      "\n",
      "  Please include this error, all your configuration, data files and the version\n",
      "  of Circos you're running (circos -v).Do not email me directly -- please use\n",
      "  the group.\n",
      "\n",
      "  Stack trace:\n",
      " at /home/jovyan/circos-0.69-6/bin/../lib/Circos/Error.pm line 425, <F> line 659.\n",
      "\tCircos::Error::fatal_error(\"io\", \"cannot_find\", \"combined.highlights.4.txt\", \" /home/jovyan/circos-0.69-6/circostrbshoot/.\\x{a} /home/jovyan/ci\"...) called at /home/jovyan/circos-0.69-6/bin/../lib/Circos/Utils.pm line 662\n",
      "\tCircos::Utils::locate_file(\"file\", \"combined.highlights.4.txt\", \"name\", \"highlight track id track_3\") called at /srv/conda/lib/perl5/site_perl/5.22.0/Memoize.pm line 245\n",
      "\tMemoize::_memoizer(CODE(0x28fdf40), \"file\", \"combined.highlights.4.txt\", \"name\", \"highlight track id track_3\") called at (eval 138) line 1\n",
      "\tMemoize::__ANON__(\"file\", \"combined.highlights.4.txt\", \"name\", \"highlight track id track_3\") called at /home/jovyan/circos-0.69-6/bin/../lib/Circos.pm line 836\n",
      "\tCircos::run(\"Circos\", \"configfile\", \"./circos.conf\", \"_argv\", \"-conf ./circos.conf\", \"_cwd\", \"/home/jovyan/circos-0.69-6/circostrbshoot\") called at ../bin/circos line 536\n"
     ]
    },
    {
     "ename": "",
     "evalue": "255",
     "execution_count": 10,
     "output_type": "error",
     "traceback": []
    }
   ],
   "source": [
    "../bin/circos -conf ./circos.conf"
   ]
  },
  {
   "cell_type": "code",
   "execution_count": null,
   "metadata": {},
   "outputs": [],
   "source": []
  },
  {
   "cell_type": "markdown",
   "metadata": {},
   "source": [
    "Alternatively, after changing the working directory to `circos-0.69-6/example`, the example above could be run like this in a way that will better mirror how other commands will be run where `conf` files are in their own directories.\n",
    "\n",
    "```\n",
    "../bin/circos -conf etc/circos.conf > run.out\n",
    "```\n",
    "\n",
    "(Normally though you wouldn't necessarily need the ` > run.out` part.)\n",
    "\n",
    "Run the next cell. If things worked it will have content and not `tail: cannot open 'run.out' for reading: No such file or directory`."
   ]
  },
  {
   "cell_type": "code",
   "execution_count": null,
   "metadata": {},
   "outputs": [],
   "source": []
  }
 ],
 "metadata": {
  "kernelspec": {
   "display_name": "Bash",
   "language": "bash",
   "name": "bash"
  },
  "language_info": {
   "codemirror_mode": "shell",
   "file_extension": ".sh",
   "mimetype": "text/x-sh",
   "name": "bash"
  }
 },
 "nbformat": 4,
 "nbformat_minor": 2
}
