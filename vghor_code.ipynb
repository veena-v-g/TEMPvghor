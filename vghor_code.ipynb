{
 "cells": [
  {
   "cell_type": "markdown",
   "metadata": {},
   "source": [
    "# Running Vghor_code\n",
    "\n",
    "~~Uploaded `circostrbshoot.zip` to running session.~~\n",
    "\n",
    "Run the five cells below by clicking on each and typing `shift-enter`. Alternatively, use the `Run` button from menu."
   ]
  },
  {
   "cell_type": "code",
   "execution_count": 1,
   "metadata": {},
   "outputs": [
    {
     "name": "stdout",
     "output_type": "stream",
     "text": [
      "Archive:  circostrbshoot.zip\n",
      "   creating: circostrbshoot/\n",
      "   creating: circostrbshoot/.ipynb_checkpoints/\n",
      "  inflating: circostrbshoot/.ipynb_checkpoints/circos-checkpoint.conf  \n",
      "   creating: __MACOSX/\n",
      "   creating: __MACOSX/circostrbshoot/\n",
      "   creating: __MACOSX/circostrbshoot/.ipynb_checkpoints/\n",
      "  inflating: __MACOSX/circostrbshoot/.ipynb_checkpoints/._circos-checkpoint.conf  \n",
      "  inflating: __MACOSX/circostrbshoot/._.ipynb_checkpoints  \n",
      "  inflating: circostrbshoot/circos.conf  \n",
      "  inflating: __MACOSX/circostrbshoot/._circos.conf  \n",
      "  inflating: circostrbshoot/combined.highlights.1.txt  \n",
      "  inflating: __MACOSX/circostrbshoot/._combined.highlights.1.txt  \n",
      "  inflating: circostrbshoot/combined.highlights.2.txt  \n",
      "  inflating: __MACOSX/circostrbshoot/._combined.highlights.2.txt  \n",
      "  inflating: circostrbshoot/combined.highlights.3.txt  \n",
      "  inflating: __MACOSX/circostrbshoot/._combined.highlights.3.txt  \n",
      "  inflating: circostrbshoot/combined.labels.2.txt  \n",
      "  inflating: __MACOSX/circostrbshoot/._combined.labels.2.txt  \n",
      "  inflating: circostrbshoot/combined.labels.txt  \n",
      "  inflating: __MACOSX/circostrbshoot/._combined.labels.txt  \n",
      "  inflating: circostrbshoot/combined.separator.txt  \n",
      "  inflating: __MACOSX/circostrbshoot/._combined.separator.txt  \n",
      "  inflating: circostrbshoot/highlights.conf  \n",
      "  inflating: __MACOSX/circostrbshoot/._highlights.conf  \n",
      "  inflating: circostrbshoot/ideogram.conf  \n",
      "  inflating: __MACOSX/circostrbshoot/._ideogram.conf  \n",
      "  inflating: circostrbshoot/karyotype.combined.txt  \n",
      "  inflating: __MACOSX/circostrbshoot/._karyotype.combined.txt  \n",
      "  inflating: circostrbshoot/ticks.conf  \n",
      "  inflating: __MACOSX/circostrbshoot/._ticks.conf  \n",
      "  inflating: __MACOSX/._circostrbshoot  \n"
     ]
    }
   ],
   "source": [
    "unzip circostrbshoot.zip"
   ]
  },
  {
   "cell_type": "code",
   "execution_count": 2,
   "metadata": {},
   "outputs": [],
   "source": [
    "mv circostrbshoot circos-0.69-6/"
   ]
  },
  {
   "cell_type": "code",
   "execution_count": 3,
   "metadata": {},
   "outputs": [],
   "source": [
    "cd circos-0.69-6/circostrbshoot"
   ]
  },
  {
   "cell_type": "code",
   "execution_count": 4,
   "metadata": {},
   "outputs": [
    {
     "name": "stdout",
     "output_type": "stream",
     "text": [
      "/home/jovyan/circos-0.69-6/circostrbshoot\n"
     ]
    }
   ],
   "source": [
    "pwd"
   ]
  },
  {
   "cell_type": "code",
   "execution_count": 5,
   "metadata": {},
   "outputs": [
    {
     "name": "stdout",
     "output_type": "stream",
     "text": [
      "debuggroup summary 0.25s welcome to circos v0.69-6 31 July 2017 on Perl 5.022000\n",
      "debuggroup summary 0.25s current working directory /home/jovyan/circos-0.69-6/circostrbshoot\n",
      "debuggroup summary 0.25s command ../bin/circos -conf ./circos.conf\n",
      "debuggroup summary 0.25s loading configuration from file ./circos.conf\n",
      "Use of uninitialized value in subroutine entry at /home/jovyan/circos-0.69-6/bin/../lib/Circos/Configuration.pm line 781.\n",
      "debuggroup summary 0.26s found conf file ./circos.conf\n",
      "debuggroup summary 0.45s debug will appear for these features: output,summary\n",
      "debuggroup summary 0.45s bitmap output image ./circos.png\n",
      "debuggroup summary 0.45s SVG output image ./circos.svg\n",
      "debuggroup summary 0.45s parsing karyotype and organizing ideograms\n",
      "debuggroup summary 0.45s karyotype has 1 chromosomes of total size 9,000,001\n",
      "debuggroup summary 0.45s applying global and local scaling\n",
      "debuggroup summary 0.46s allocating image, colors and brushes\n",
      "debuggroup summary 10.36s drawing 1 ideograms of total size 9,000,001\n",
      "debuggroup summary 10.36s drawing highlights and ideograms\n",
      "Use of uninitialized value in subroutine entry at /home/jovyan/circos-0.69-6/bin/../lib/Circos/Configuration.pm line 781.\n",
      "debuggroup summary 10.36s found conf file /home/jovyan/circos-0.69-6/bin/../etc/tracks/highlight.bg.conf\n",
      "Use of uninitialized value in subroutine entry at /home/jovyan/circos-0.69-6/bin/../lib/Circos/Configuration.pm line 781.\n",
      "debuggroup summary 10.36s found conf file /home/jovyan/circos-0.69-6/bin/../etc/tracks/highlight.bg.conf\n",
      "Use of uninitialized value in subroutine entry at /home/jovyan/circos-0.69-6/bin/../lib/Circos/Configuration.pm line 781.\n",
      "debuggroup summary 10.36s found conf file /home/jovyan/circos-0.69-6/bin/../etc/tracks/highlight.bg.conf\n",
      "Use of uninitialized value in subroutine entry at /home/jovyan/circos-0.69-6/bin/../lib/Circos/Configuration.pm line 781.\n",
      "debuggroup summary 10.36s found conf file /home/jovyan/circos-0.69-6/bin/../etc/tracks/highlight.bg.conf\n",
      "Use of uninitialized value in subroutine entry at /home/jovyan/circos-0.69-6/bin/../lib/Circos/Configuration.pm line 781.\n",
      "debuggroup summary 10.36s found conf file /home/jovyan/circos-0.69-6/bin/../etc/tracks/highlight.bg.conf\n",
      "Use of uninitialized value in subroutine entry at /home/jovyan/circos-0.69-6/bin/../lib/Circos/Configuration.pm line 781.\n",
      "debuggroup summary 10.37s found conf file /home/jovyan/circos-0.69-6/bin/../etc/tracks/highlight.bg.conf\n",
      "Use of uninitialized value in subroutine entry at /home/jovyan/circos-0.69-6/bin/../lib/Circos/Configuration.pm line 781.\n",
      "debuggroup summary 10.37s found conf file /home/jovyan/circos-0.69-6/bin/../etc/tracks/highlight.bg.conf\n",
      "Use of uninitialized value in subroutine entry at /home/jovyan/circos-0.69-6/bin/../lib/Circos/Configuration.pm line 781.\n",
      "debuggroup summary 10.37s found conf file /home/jovyan/circos-0.69-6/bin/../etc/tracks/highlight.bg.conf\n",
      "Use of uninitialized value in subroutine entry at /home/jovyan/circos-0.69-6/bin/../lib/Circos/Configuration.pm line 781.\n",
      "debuggroup summary 10.37s found conf file /home/jovyan/circos-0.69-6/bin/../etc/tracks/highlight.bg.conf\n",
      "Use of uninitialized value in subroutine entry at /home/jovyan/circos-0.69-6/bin/../lib/Circos/Configuration.pm line 781.\n",
      "debuggroup summary 10.37s found conf file /home/jovyan/circos-0.69-6/bin/../etc/tracks/highlight.bg.conf\n",
      "Use of uninitialized value in subroutine entry at /home/jovyan/circos-0.69-6/bin/../lib/Circos/Configuration.pm line 781.\n",
      "debuggroup summary 10.37s found conf file /home/jovyan/circos-0.69-6/bin/../etc/tracks/highlight.bg.conf\n",
      "Use of uninitialized value in subroutine entry at /home/jovyan/circos-0.69-6/bin/../lib/Circos/Configuration.pm line 781.\n",
      "debuggroup summary 10.37s found conf file /home/jovyan/circos-0.69-6/bin/../etc/tracks/highlight.bg.conf\n",
      "Use of uninitialized value in subroutine entry at /home/jovyan/circos-0.69-6/bin/../lib/Circos/Configuration.pm line 781.\n",
      "debuggroup summary 10.37s found conf file /home/jovyan/circos-0.69-6/bin/../etc/tracks/highlight.bg.conf\n",
      "Use of uninitialized value in subroutine entry at /home/jovyan/circos-0.69-6/bin/../lib/Circos/Configuration.pm line 781.\n",
      "debuggroup summary 10.38s found conf file /home/jovyan/circos-0.69-6/bin/../etc/tracks/highlight.bg.conf\n",
      "Use of uninitialized value in subroutine entry at /home/jovyan/circos-0.69-6/bin/../lib/Circos/Configuration.pm line 781.\n",
      "debuggroup summary 10.38s found conf file /home/jovyan/circos-0.69-6/bin/../etc/tracks/highlight.bg.conf\n",
      "Use of uninitialized value in subroutine entry at /home/jovyan/circos-0.69-6/bin/../lib/Circos/Configuration.pm line 781.\n",
      "debuggroup summary 10.38s found conf file /home/jovyan/circos-0.69-6/bin/../etc/tracks/highlight.bg.conf\n",
      "Use of uninitialized value in subroutine entry at /home/jovyan/circos-0.69-6/bin/../lib/Circos/Configuration.pm line 781.\n",
      "debuggroup summary 10.38s found conf file /home/jovyan/circos-0.69-6/bin/../etc/tracks/highlight.bg.conf\n",
      "debuggroup summary 10.38s process track_0 highlight /home/jovyan/circos-0.69-6/circostrbshoot/combined.highlights.1.txt\n",
      "debuggroup summary 10.39s process track_1 highlight /home/jovyan/circos-0.69-6/circostrbshoot/combined.highlights.2.txt\n",
      "debuggroup summary 10.52s process track_2 highlight /home/jovyan/circos-0.69-6/circostrbshoot/combined.highlights.3.txt\n",
      "\n",
      "  *** CIRCOS ERROR ***\n",
      "\n",
      "      cwd: /home/jovyan/circos-0.69-6/circostrbshoot\n",
      "\n",
      "      command: ../bin/circos -conf ./circos.conf\n",
      "\n",
      "  Cannot guess the location of file [combined.highlights.4.txt]. Tried to look\n",
      "  in the following directories\n",
      "\n",
      "      /home/jovyan/circos-0.69-6/circostrbshoot/.\n",
      "\n",
      "      /home/jovyan/circos-0.69-6/circostrbshoot/etc\n",
      "\n",
      "      /home/jovyan/circos-0.69-6/circostrbshoot/data\n",
      "\n",
      "      /home/jovyan/circos-0.69-6/circostrbshoot/../.\n",
      "\n",
      "      /home/jovyan/circos-0.69-6/circostrbshoot/../etc\n",
      "\n",
      "      /home/jovyan/circos-0.69-6/circostrbshoot/../data\n",
      "\n",
      "      /home/jovyan/circos-0.69-6/circostrbshoot/../../.\n",
      "\n",
      "      /home/jovyan/circos-0.69-6/circostrbshoot/../../etc\n",
      "\n",
      "      /home/jovyan/circos-0.69-6/circostrbshoot/../../data\n",
      "\n",
      "      /home/jovyan/circos-0.69-6/circostrbshoot/../../../.\n",
      "\n",
      "      /home/jovyan/circos-0.69-6/circostrbshoot/../../../etc\n",
      "\n",
      "      /home/jovyan/circos-0.69-6/circostrbshoot/../../../data\n",
      "\n",
      "      ./.\n",
      "\n",
      "      ./etc\n",
      "\n",
      "      ./data\n",
      "\n",
      "      ../.\n",
      "\n",
      "      ../etc\n",
      "\n",
      "      ../data\n",
      "\n",
      "      ../../.\n",
      "\n",
      "      ../../etc\n",
      "\n",
      "      ../../data\n",
      "\n",
      "      ../../../.\n",
      "\n",
      "      ../../../etc\n",
      "\n",
      "      ../../../data\n",
      "\n",
      "      /home/jovyan/circos-0.69-6/bin/.\n",
      "\n",
      "      /home/jovyan/circos-0.69-6/bin/etc\n",
      "\n",
      "      /home/jovyan/circos-0.69-6/bin/data\n",
      "\n",
      "      /home/jovyan/circos-0.69-6/bin/../.\n",
      "\n",
      "      /home/jovyan/circos-0.69-6/bin/../etc\n",
      "\n",
      "      /home/jovyan/circos-0.69-6/bin/../data\n",
      "\n",
      "      /home/jovyan/circos-0.69-6/bin/../../.\n",
      "\n",
      "      /home/jovyan/circos-0.69-6/bin/../../etc\n",
      "\n",
      "      /home/jovyan/circos-0.69-6/bin/../../data\n",
      "\n",
      "      /home/jovyan/circos-0.69-6/bin/../../../.\n",
      "\n",
      "      /home/jovyan/circos-0.69-6/bin/../../../etc\n",
      "\n",
      "      /home/jovyan/circos-0.69-6/bin/../../../data\n",
      "\n",
      "  If you are having trouble debugging this error, first read the best practices\n",
      "  tutorial for helpful tips that address many common problems\n",
      "\n",
      "      http://www.circos.ca/documentation/tutorials/reference/best_practices\n",
      "\n",
      "  The debugging facility is helpful to figure out what's happening under the\n",
      "  hood\n",
      "\n",
      "      http://www.circos.ca/documentation/tutorials/configuration/debugging\n",
      "\n",
      "  If you're still stumped, get support in the Circos Google Group.\n",
      "\n",
      "      http://groups.google.com/group/circos-data-visualization\n",
      "\n",
      "  Please include this error, all your configuration, data files and the version\n",
      "  of Circos you're running (circos -v).Do not email me directly -- please use\n",
      "  the group.\n",
      "\n",
      "  Stack trace:\n",
      " at /home/jovyan/circos-0.69-6/bin/../lib/Circos/Error.pm line 425, <F> line 659.\n",
      "\tCircos::Error::fatal_error(\"io\", \"cannot_find\", \"combined.highlights.4.txt\", \" /home/jovyan/circos-0.69-6/circostrbshoot/.\\x{a} /home/jovyan/ci\"...) called at /home/jovyan/circos-0.69-6/bin/../lib/Circos/Utils.pm line 662\n",
      "\tCircos::Utils::locate_file(\"file\", \"combined.highlights.4.txt\", \"name\", \"highlight track id track_3\") called at /srv/conda/lib/perl5/site_perl/5.22.0/Memoize.pm line 245\n",
      "\tMemoize::_memoizer(CODE(0x2eb56a0), \"file\", \"combined.highlights.4.txt\", \"name\", \"highlight track id track_3\") called at (eval 138) line 1\n",
      "\tMemoize::__ANON__(\"file\", \"combined.highlights.4.txt\", \"name\", \"highlight track id track_3\") called at /home/jovyan/circos-0.69-6/bin/../lib/Circos.pm line 836\n",
      "\tCircos::run(\"Circos\", \"configfile\", \"./circos.conf\", \"_cwd\", \"/home/jovyan/circos-0.69-6/circostrbshoot\", \"_argv\", \"-conf ./circos.conf\") called at ../bin/circos line 536\n"
     ]
    },
    {
     "ename": "",
     "evalue": "255",
     "execution_count": 5,
     "output_type": "error",
     "traceback": []
    }
   ],
   "source": [
    "../bin/circos -conf ./circos.conf"
   ]
  },
  {
   "cell_type": "markdown",
   "metadata": {},
   "source": [
    "To view the SVG file, open a Python notebook in this session and then paste in the following code:"
   ]
  },
  {
   "cell_type": "markdown",
   "metadata": {},
   "source": [
    "    from IPython.core.display import SVG\n",
    "    SVG(filename='circos-0.69-6/circostrbshoot/circos.svg')\n",
    "\n",
    "-OR, depending on where you are when notebook made-\n",
    "\n",
    "\n",
    "\n",
    "    from IPython.core.display import SVG\n",
    "    SVG(filename='circos.svg')"
   ]
  },
  {
   "cell_type": "code",
   "execution_count": null,
   "metadata": {},
   "outputs": [],
   "source": []
  },
  {
   "cell_type": "markdown",
   "metadata": {},
   "source": [
    "Alternatively, after changing the working directory to `circos-0.69-6/example`, the example above could be run like this in a way that will better mirror how other commands will be run where `conf` files are in their own directories.\n",
    "\n",
    "```\n",
    "../bin/circos -conf etc/circos.conf > run.out\n",
    "```\n",
    "\n",
    "(Normally though you wouldn't necessarily need the ` > run.out` part.)\n",
    "\n",
    "Run the next cell. If things worked it will have content and not `tail: cannot open 'run.out' for reading: No such file or directory`."
   ]
  },
  {
   "cell_type": "code",
   "execution_count": null,
   "metadata": {},
   "outputs": [],
   "source": []
  }
 ],
 "metadata": {
  "kernelspec": {
   "display_name": "Bash",
   "language": "bash",
   "name": "bash"
  },
  "language_info": {
   "codemirror_mode": "shell",
   "file_extension": ".sh",
   "mimetype": "text/x-sh",
   "name": "bash"
  }
 },
 "nbformat": 4,
 "nbformat_minor": 2
}
