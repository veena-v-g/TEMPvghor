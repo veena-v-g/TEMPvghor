{
 "cells": [
  {
   "cell_type": "markdown",
   "metadata": {},
   "source": [
    "# Running Vghor_code\n",
    "\n",
    "Files provided (except the result image) are already here. Circos should run. \n",
    "\n",
    "It will be interesting to see how long it takes here. (Chances are it may time out if it really takes that long to run because these sessions are limited to six hours; however, it may help troubleshoot is anything fundamental is 'off'.)\n",
    "\n",
    "Run the five cells below by clicking on each and typing `shift-enter`. Alternatively, use the `Run` button from menu."
   ]
  },
  {
   "cell_type": "code",
   "execution_count": null,
   "metadata": {},
   "outputs": [],
   "source": [
    "unzip circostrbshoot.zip"
   ]
  },
  {
   "cell_type": "code",
   "execution_count": null,
   "metadata": {},
   "outputs": [],
   "source": [
    "mv circostrbshoot circos-0.69-6/"
   ]
  },
  {
   "cell_type": "code",
   "execution_count": null,
   "metadata": {},
   "outputs": [],
   "source": [
    "cd circos-0.69-6/circostrbshoot"
   ]
  },
  {
   "cell_type": "code",
   "execution_count": null,
   "metadata": {},
   "outputs": [],
   "source": [
    "pwd"
   ]
  },
  {
   "cell_type": "code",
   "execution_count": null,
   "metadata": {},
   "outputs": [],
   "source": [
    "../bin/circos -conf ./circos.conf"
   ]
  },
  {
   "cell_type": "markdown",
   "metadata": {},
   "source": [
    "To view the SVG file, open a Python notebook in this session and then paste in the following code:"
   ]
  },
  {
   "cell_type": "markdown",
   "metadata": {},
   "source": [
    "    from IPython.core.display import SVG\n",
    "    SVG(filename='circos-0.69-6/circostrbshoot/circos.svg')\n",
    "\n",
    "-OR, depending on where you are when notebook made-\n",
    "\n",
    "\n",
    "\n",
    "    from IPython.core.display import SVG\n",
    "    SVG(filename='circos.svg')"
   ]
  },
  {
   "cell_type": "code",
   "execution_count": null,
   "metadata": {},
   "outputs": [],
   "source": []
  },
  {
   "cell_type": "markdown",
   "metadata": {},
   "source": [
    "Alternatively, after changing the working directory to `circos-0.69-6/example`, the example above could be run like this in a way that will better mirror how other commands will be run where `conf` files are in their own directories.\n",
    "\n",
    "```\n",
    "../bin/circos -conf etc/circos.conf > run.out\n",
    "```\n",
    "\n",
    "(Normally though you wouldn't necessarily need the ` > run.out` part.)\n",
    "\n",
    "Run the next cell. If things worked it will have content and not `tail: cannot open 'run.out' for reading: No such file or directory`."
   ]
  },
  {
   "cell_type": "code",
   "execution_count": null,
   "metadata": {},
   "outputs": [],
   "source": []
  }
 ],
 "metadata": {
  "kernelspec": {
   "display_name": "Bash",
   "language": "bash",
   "name": "bash"
  },
  "language_info": {
   "codemirror_mode": "shell",
   "file_extension": ".sh",
   "mimetype": "text/x-sh",
   "name": "bash"
  }
 },
 "nbformat": 4,
 "nbformat_minor": 2
}
